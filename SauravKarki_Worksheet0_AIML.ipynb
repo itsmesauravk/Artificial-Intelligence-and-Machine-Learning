{
  "nbformat": 4,
  "nbformat_minor": 0,
  "metadata": {
    "colab": {
      "provenance": []
    },
    "kernelspec": {
      "name": "python3",
      "display_name": "Python 3"
    },
    "language_info": {
      "name": "python"
    }
  },
  "cells": [
    {
      "cell_type": "markdown",
      "source": [
        "# Exercise on Functions:"
      ],
      "metadata": {
        "id": "s1VYp5otzy4i"
      }
    },
    {
      "cell_type": "markdown",
      "source": [
        "# Task-1 Unit Conversion"
      ],
      "metadata": {
        "id": "8-CTWL4rzpP0"
      }
    },
    {
      "cell_type": "code",
      "execution_count": 1,
      "metadata": {
        "colab": {
          "base_uri": "https://localhost:8080/"
        },
        "id": "_Wc3B-ppzalq",
        "outputId": "58cd465f-4ba5-4462-8ce3-255e2feab453"
      },
      "outputs": [
        {
          "output_type": "stream",
          "name": "stdout",
          "text": [
            "Welcome to the Unit Converter!\n",
            "Available conversions:\n",
            "1. Length: meters <-> feet\n",
            "2. Weight: kilograms <-> pounds\n",
            "3. Volume: liters <-> gallons\n",
            "Choose conversion type (1, 2, or 3): 1\n",
            "Enter the value to convert: 10\n",
            "Enter conversion (m_to_ft or ft_to_m): m_to_ft\n",
            "Converted value: 32.8084\n"
          ]
        }
      ],
      "source": [
        "def convert_length(value, unit):\n",
        "    \"\"\"Convert length between meters and feet.\n",
        "\n",
        "    Parameters:\n",
        "    value (float): Value to be converted.\n",
        "    unit (str): Conversion type ('m_to_ft' or 'ft_to_m').\n",
        "\n",
        "    Returns:\n",
        "    float: Converted value.\n",
        "\n",
        "    Raises:\n",
        "    ValueError: If an invalid unit is provided.\n",
        "    \"\"\"\n",
        "    if unit == 'm_to_ft':\n",
        "        return value * 3.28084  # Convert meters to feet\n",
        "    elif unit == 'ft_to_m':\n",
        "        return value / 3.28084  # Convert feet to meters\n",
        "    else:\n",
        "        raise ValueError(\"Invalid length conversion type.\")  # Handle invalid input\n",
        "\n",
        "def convert_weight(value, unit):\n",
        "    \"\"\"Convert weight between kilograms and pounds.\n",
        "\n",
        "    Parameters:\n",
        "    value (float): Value to be converted.\n",
        "    unit (str): Conversion type ('kg_to_lbs' or 'lbs_to_kg').\n",
        "\n",
        "    Returns:\n",
        "    float: Converted value.\n",
        "\n",
        "    Raises:\n",
        "    ValueError: If an invalid unit is provided.\n",
        "    \"\"\"\n",
        "    if unit == 'kg_to_lbs':\n",
        "        return value * 2.20462  # Convert kg to pounds\n",
        "    elif unit == 'lbs_to_kg':\n",
        "        return value / 2.20462  # Convert pounds to kg\n",
        "    else:\n",
        "        raise ValueError(\"Invalid weight conversion type.\")  # Handle invalid input\n",
        "\n",
        "def convert_volume(value, unit):\n",
        "    \"\"\"Convert volume between liters and gallons.\n",
        "\n",
        "    Parameters:\n",
        "    value (float): Value to be converted.\n",
        "    unit (str): Conversion type ('L_to_gal' or 'gal_to_L').\n",
        "\n",
        "    Returns:\n",
        "    float: Converted value.\n",
        "\n",
        "    Raises:\n",
        "    ValueError: If an invalid unit is provided.\n",
        "    \"\"\"\n",
        "    if unit == 'L_to_gal':\n",
        "        return value * 0.264172  # Convert liters to gallons\n",
        "    elif unit == 'gal_to_L':\n",
        "        return value / 0.264172  # Convert gallons to liters\n",
        "    else:\n",
        "        raise ValueError(\"Invalid volume conversion type.\")  # Handle invalid input\n",
        "\n",
        "def main():\n",
        "    \"\"\"Run the unit converter program, allowing users to select a conversion, input a value, and get the result.\"\"\"\n",
        "    print(\"Welcome to the Unit Converter!\")  # Display welcome message\n",
        "    print(\"Available conversions:\")\n",
        "    print(\"1. Length: meters <-> feet\")\n",
        "    print(\"2. Weight: kilograms <-> pounds\")\n",
        "    print(\"3. Volume: liters <-> gallons\")\n",
        "\n",
        "    try:\n",
        "        conversion_type = int(input(\"Choose conversion type (1, 2, or 3): \"))  # Get category\n",
        "        value = float(input(\"Enter the value to convert: \"))  # Get numeric input\n",
        "\n",
        "        if conversion_type == 1:\n",
        "            unit = input(\"Enter conversion (m_to_ft or ft_to_m): \")\n",
        "            result = convert_length(value, unit)  # Perform length conversion\n",
        "        elif conversion_type == 2:\n",
        "            unit = input(\"Enter conversion (kg_to_lbs or lbs_to_kg): \")\n",
        "            result = convert_weight(value, unit)  # Perform weight conversion\n",
        "        elif conversion_type == 3:\n",
        "            unit = input(\"Enter conversion (L_to_gal or gal_to_L): \")\n",
        "            result = convert_volume(value, unit)  # Perform volume conversion\n",
        "        else:\n",
        "            print(\"Invalid conversion type.\")  # Handle incorrect selection\n",
        "            return\n",
        "\n",
        "        print(f\"Converted value: {result}\")  # Display result\n",
        "\n",
        "    except ValueError as e:\n",
        "        print(f\"Error: {e}\")  # Handle invalid input\n",
        "\n",
        "main()  # Run the program\n"
      ]
    },
    {
      "cell_type": "markdown",
      "source": [
        "# Task-2 Math Operation on List of Numbers"
      ],
      "metadata": {
        "id": "rVa5pztD0Y2e"
      }
    },
    {
      "cell_type": "code",
      "source": [
        "def calculate_sum(numbers):\n",
        "    \"\"\"Return the sum of a list of numbers.\n",
        "\n",
        "    Parameters:\n",
        "    numbers (list): List of numerical values.\n",
        "\n",
        "    Returns:\n",
        "    float: Sum of all elements.\n",
        "    \"\"\"\n",
        "    return sum(numbers)\n",
        "\n",
        "def calculate_average(numbers):\n",
        "    \"\"\"Return the average of a list of numbers.\n",
        "\n",
        "    Parameters:\n",
        "    numbers (list): List of numerical values.\n",
        "\n",
        "    Returns:\n",
        "    float: Average of the elements.\n",
        "    \"\"\"\n",
        "    return sum(numbers) / len(numbers)  # Prevents division by zero error\n",
        "\n",
        "def find_maximum(numbers):\n",
        "    \"\"\"Return the maximum value in a list.\n",
        "\n",
        "    Parameters:\n",
        "    numbers (list): List of numerical values.\n",
        "\n",
        "    Returns:\n",
        "    float: Maximum element.\n",
        "    \"\"\"\n",
        "    return max(numbers)  # Finds the highest value\n",
        "\n",
        "def find_minimum(numbers):\n",
        "    \"\"\"Return the minimum value in a list.\n",
        "\n",
        "    Parameters:\n",
        "    numbers (list): List of numerical values.\n",
        "\n",
        "    Returns:\n",
        "    float: Minimum element.\n",
        "    \"\"\"\n",
        "    return min(numbers)  # Finds the lowest value\n",
        "\n",
        "def main():\n",
        "    \"\"\"Run the program to perform mathematical operations.\"\"\"\n",
        "    print(\"Welcome to the Mathematical Operations Program!\")  # Greeting message\n",
        "    print(\"Select an operation:\")\n",
        "    print(\"1. Sum  2. Average  3. Maximum  4. Minimum\")  # Options\n",
        "\n",
        "    try:\n",
        "        operation = int(input(\"Choose an operation (1-4): \"))  # User input for operation\n",
        "        numbers = list(map(float, input(\"Enter numbers separated by spaces: \").split()))  # Input list\n",
        "\n",
        "        if operation == 1:\n",
        "            print(f\"Sum: {calculate_sum(numbers)}\")  # Display sum\n",
        "        elif operation == 2:\n",
        "            print(f\"Average: {calculate_average(numbers)}\")  # Display average\n",
        "        elif operation == 3:\n",
        "            print(f\"Maximum: {find_maximum(numbers)}\")  # Display max value\n",
        "        elif operation == 4:\n",
        "            print(f\"Minimum: {find_minimum(numbers)}\")  # Display min value\n",
        "        else:\n",
        "            print(\"Invalid operation selected.\")  # Handle incorrect choice\n",
        "\n",
        "    except ValueError as e:\n",
        "        print(f\"Error: {e}\")  # Handle non-numeric input\n",
        "    except ZeroDivisionError:\n",
        "        print(\"Error: Cannot calculate average of an empty list.\")  # Handle empty list case\n",
        "\n",
        "main()  # Run the program\n"
      ],
      "metadata": {
        "colab": {
          "base_uri": "https://localhost:8080/"
        },
        "id": "rB4V4IEo0FhL",
        "outputId": "4eef9af2-5215-4593-a83c-db6537182110"
      },
      "execution_count": 2,
      "outputs": [
        {
          "output_type": "stream",
          "name": "stdout",
          "text": [
            "Welcome to the Mathematical Operations Program!\n",
            "Select an operation:\n",
            "1. Sum  2. Average  3. Maximum  4. Minimum\n",
            "Choose an operation (1-4): 3\n",
            "Enter numbers separated by spaces: 1 4 6 8\n",
            "Maximum: 8.0\n"
          ]
        }
      ]
    },
    {
      "cell_type": "markdown",
      "source": [
        "# Exercise on List Manipulation:"
      ],
      "metadata": {
        "id": "7uYcjGpB0_rE"
      }
    },
    {
      "cell_type": "code",
      "source": [
        "def extract_every_other(lst):\n",
        "    \"\"\"\n",
        "    Extracts every other element from a list, starting from the first element.\n",
        "\n",
        "    Parameters:\n",
        "    lst (list): The input list.\n",
        "\n",
        "    Returns:\n",
        "    list: A new list containing every other element.\n",
        "    \"\"\"\n",
        "    return lst[::2]  # Selects every second element from the list.\n",
        "\n",
        "# Example usage\n",
        "print(extract_every_other([1, 2, 3, 4, 5, 6]))  # Output: [1, 3, 5]\n"
      ],
      "metadata": {
        "colab": {
          "base_uri": "https://localhost:8080/"
        },
        "id": "8ui-kMre0w3H",
        "outputId": "28cbdf1d-d9e9-404c-c3fb-71ccaaaab7a6"
      },
      "execution_count": 3,
      "outputs": [
        {
          "output_type": "stream",
          "name": "stdout",
          "text": [
            "[1, 3, 5]\n"
          ]
        }
      ]
    },
    {
      "cell_type": "code",
      "source": [
        "def get_sublist(lst, start, end):\n",
        "    \"\"\"\n",
        "    Returns a sublist from a given list, starting from a specified index and ending at another specified index.\n",
        "\n",
        "    Parameters:\n",
        "    lst (list): The input list.\n",
        "    start (int): The starting index.\n",
        "    end (int): The ending index.\n",
        "\n",
        "    Returns:\n",
        "    list: The sublist from start to end (inclusive).\n",
        "    \"\"\"\n",
        "    return lst[start:end+1]  # Extracts elements from start to end index (inclusive).\n",
        "\n",
        "\n",
        "print(get_sublist([1, 2, 3, 4, 5, 6], 2, 4))  # Output: [3, 4, 5]\n"
      ],
      "metadata": {
        "colab": {
          "base_uri": "https://localhost:8080/"
        },
        "id": "Z2uRdVIQ2JDt",
        "outputId": "d99ee94a-ecd4-499a-d76d-f329d454813a"
      },
      "execution_count": 4,
      "outputs": [
        {
          "output_type": "stream",
          "name": "stdout",
          "text": [
            "[3, 4, 5]\n"
          ]
        }
      ]
    },
    {
      "cell_type": "code",
      "source": [
        "def reverse_list(lst):\n",
        "    \"\"\"\n",
        "    Reverses a list using slicing.\n",
        "\n",
        "    Parameters:\n",
        "    lst (list): The input list.\n",
        "\n",
        "    Returns:\n",
        "    list: The reversed list.\n",
        "    \"\"\"\n",
        "    return lst[::-1]  # Reverses the list using slicing.\n",
        "\n",
        "\n",
        "print(reverse_list([1, 2, 3, 4, 5]))  # Output: [5, 4, 3, 2, 1]\n"
      ],
      "metadata": {
        "colab": {
          "base_uri": "https://localhost:8080/"
        },
        "id": "QiySrYeF2Ut7",
        "outputId": "95f58eff-c55b-47a0-b2fe-709b37e74dd7"
      },
      "execution_count": 5,
      "outputs": [
        {
          "output_type": "stream",
          "name": "stdout",
          "text": [
            "[5, 4, 3, 2, 1]\n"
          ]
        }
      ]
    },
    {
      "cell_type": "code",
      "source": [
        "def remove_first_last(lst):\n",
        "    \"\"\"\n",
        "    Removes the first and last elements of a list and returns the resulting sublist.\n",
        "\n",
        "    Parameters:\n",
        "    lst (list): The input list.\n",
        "\n",
        "    Returns:\n",
        "    list: The sublist without the first and last elements.\n",
        "    \"\"\"\n",
        "    return lst[1:-1]  # Extracts all elements except the first and last.\n",
        "\n",
        "print(remove_first_last([1, 2, 3, 4, 5]))  # Output: [2, 3, 4]\n"
      ],
      "metadata": {
        "colab": {
          "base_uri": "https://localhost:8080/"
        },
        "id": "9zxHVjqa2YDp",
        "outputId": "062e3399-1ca4-4561-b8cb-c173d281db0a"
      },
      "execution_count": 6,
      "outputs": [
        {
          "output_type": "stream",
          "name": "stdout",
          "text": [
            "[2, 3, 4]\n"
          ]
        }
      ]
    },
    {
      "cell_type": "code",
      "source": [
        "def get_first_n(lst, n):\n",
        "    \"\"\"\n",
        "    Extracts the first n elements from a list.\n",
        "\n",
        "    Parameters:\n",
        "    lst (list): The input list.\n",
        "    n (int): The number of elements to extract.\n",
        "\n",
        "    Returns:\n",
        "    list: The first n elements of the list.\n",
        "    \"\"\"\n",
        "    return lst[:n]  # Slices the list to get the first n elements.\n",
        "\n",
        "\n",
        "print(get_first_n([1, 2, 3, 4, 5], 3))  # Output: [1, 2, 3]\n"
      ],
      "metadata": {
        "colab": {
          "base_uri": "https://localhost:8080/"
        },
        "id": "tddLLYqz2cac",
        "outputId": "801c61dc-8f1a-42a5-8805-7dc345df5c85"
      },
      "execution_count": 7,
      "outputs": [
        {
          "output_type": "stream",
          "name": "stdout",
          "text": [
            "[1, 2, 3]\n"
          ]
        }
      ]
    },
    {
      "cell_type": "code",
      "source": [
        "def get_last_n(lst, n):\n",
        "    \"\"\"\n",
        "    Extracts the last n elements of a list using slicing.\n",
        "\n",
        "    Parameters:\n",
        "    lst (list): The input list.\n",
        "    n (int): The number of elements to extract.\n",
        "\n",
        "    Returns:\n",
        "    list: The last n elements of the list.\n",
        "    \"\"\"\n",
        "    return lst[-n:]  # Slices the list to get the last n elements.\n",
        "\n",
        "\n",
        "print(get_last_n([1, 2, 3, 4, 5], 2))  # Output: [4, 5]\n"
      ],
      "metadata": {
        "colab": {
          "base_uri": "https://localhost:8080/"
        },
        "id": "9N2hNWsT2ft1",
        "outputId": "3dd400e0-bf7f-42ab-acab-6849e7210264"
      },
      "execution_count": 8,
      "outputs": [
        {
          "output_type": "stream",
          "name": "stdout",
          "text": [
            "[4, 5]\n"
          ]
        }
      ]
    },
    {
      "cell_type": "code",
      "source": [
        "def reverse_skip(lst):\n",
        "    \"\"\"\n",
        "    Extracts a list of elements in reverse order starting from the second-to-last element and skipping one element in between.\n",
        "\n",
        "    Parameters:\n",
        "    lst (list): The input list.\n",
        "\n",
        "    Returns:\n",
        "    list: A new list containing every second element starting from the second-to-last, moving backward.\n",
        "    \"\"\"\n",
        "    return lst[-2::-2]  # Extracts every second element starting from the second-to-last, moving backward.\n",
        "\n",
        "\n",
        "print(reverse_skip([1, 2, 3, 4, 5, 6]))  # Output: [5, 3, 1]\n"
      ],
      "metadata": {
        "colab": {
          "base_uri": "https://localhost:8080/"
        },
        "id": "GmeQtSq12jSe",
        "outputId": "37f2a366-fd03-47b0-fa54-3009a1165a4e"
      },
      "execution_count": 9,
      "outputs": [
        {
          "output_type": "stream",
          "name": "stdout",
          "text": [
            "[5, 3, 1]\n"
          ]
        }
      ]
    },
    {
      "cell_type": "markdown",
      "source": [
        "# Exercise on Nested List"
      ],
      "metadata": {
        "id": "GROi91612nHW"
      }
    },
    {
      "cell_type": "code",
      "source": [
        "def flatten(lst):\n",
        "    \"\"\"\n",
        "    Flattens a nested list into a single list.\n",
        "\n",
        "    Parameters:\n",
        "    lst (list): The nested list.\n",
        "\n",
        "    Returns:\n",
        "    list: A flattened version of the list.\n",
        "    \"\"\"\n",
        "    flat_list = []  # Initialize an empty list to store the flattened result.\n",
        "    for item in lst:\n",
        "        if isinstance(item, list):  # If the item is a list, recursively flatten it.\n",
        "            flat_list.extend(flatten(item))\n",
        "        else:\n",
        "            flat_list.append(item)  # Otherwise, just append the item.\n",
        "    return flat_list\n",
        "\n",
        "\n",
        "print(flatten([[1, 2], [3, [4, 5]], 6]))  # Output: [1, 2, 3, 4, 5, 6]\n"
      ],
      "metadata": {
        "colab": {
          "base_uri": "https://localhost:8080/"
        },
        "id": "eqvXZ28E3t1H",
        "outputId": "e0e15630-0cb0-4252-acfd-3b9487babca3"
      },
      "execution_count": 10,
      "outputs": [
        {
          "output_type": "stream",
          "name": "stdout",
          "text": [
            "[1, 2, 3, 4, 5, 6]\n"
          ]
        }
      ]
    },
    {
      "cell_type": "code",
      "source": [
        "def access_nested_element(lst, indices):\n",
        "    \"\"\"\n",
        "    Extracts a specific element from a nested list given its indices.\n",
        "\n",
        "    Parameters:\n",
        "    lst (list): The nested list.\n",
        "    indices (list): A list of indices.\n",
        "\n",
        "    Returns:\n",
        "    any: The element at the specified position.\n",
        "    \"\"\"\n",
        "    for index in indices:  # Iterate through each index in the indices list.\n",
        "        lst = lst[index]  # Update lst to the element at the current index.\n",
        "    return lst  # Return the final element.\n",
        "\n",
        "\n",
        "print(access_nested_element([[1, 2, 3], [4, 5, 6], [7, 8, 9]], [1, 2]))  # Output: 6\n"
      ],
      "metadata": {
        "colab": {
          "base_uri": "https://localhost:8080/"
        },
        "id": "oga0Z3Oy2v3D",
        "outputId": "77dcc05f-7e6e-4452-d592-00ea5ab00fc0"
      },
      "execution_count": 11,
      "outputs": [
        {
          "output_type": "stream",
          "name": "stdout",
          "text": [
            "6\n"
          ]
        }
      ]
    },
    {
      "cell_type": "code",
      "source": [
        "def sum_nested(lst):\n",
        "    \"\"\"\n",
        "    Calculates the sum of all the numbers in a nested list.\n",
        "\n",
        "    Parameters:\n",
        "    lst (list): The nested list.\n",
        "\n",
        "    Returns:\n",
        "    float: The sum of all elements.\n",
        "    \"\"\"\n",
        "    return sum(flatten(lst))  # Flatten the list and sum all the elements.\n",
        "\n",
        "\n",
        "print(sum_nested([[1, 2], [3, [4, 5]], 6]))  # Output: 21\n"
      ],
      "metadata": {
        "colab": {
          "base_uri": "https://localhost:8080/"
        },
        "id": "Jxb-978w2wap",
        "outputId": "72b06e1a-9d64-41ed-ade8-fa3cd27c4226"
      },
      "execution_count": 12,
      "outputs": [
        {
          "output_type": "stream",
          "name": "stdout",
          "text": [
            "21\n"
          ]
        }
      ]
    },
    {
      "cell_type": "code",
      "source": [
        "def remove_element(lst, elem):\n",
        "    \"\"\"\n",
        "    Removes all occurrences of a specific element from a nested list.\n",
        "\n",
        "    Parameters:\n",
        "    lst (list): The nested list.\n",
        "    elem (any): The element to remove.\n",
        "\n",
        "    Returns:\n",
        "    list: The modified list.\n",
        "    \"\"\"\n",
        "    # Use list comprehension to recursively remove occurrences of elem.\n",
        "    return [remove_element(item, elem) if isinstance(item, list) else item for item in lst if item != elem]\n",
        "\n",
        "\n",
        "print(remove_element([[1, 2], [3, 2], [4, 5]], 2))  # Output: [[1], [3], [4, 5]]\n"
      ],
      "metadata": {
        "colab": {
          "base_uri": "https://localhost:8080/"
        },
        "id": "sGxcAov23iN5",
        "outputId": "e15a68e9-8668-4d2a-91b0-540986ae6976"
      },
      "execution_count": 13,
      "outputs": [
        {
          "output_type": "stream",
          "name": "stdout",
          "text": [
            "[[1], [3], [4, 5]]\n"
          ]
        }
      ]
    },
    {
      "cell_type": "code",
      "source": [
        "def find_max(lst):\n",
        "    \"\"\"\n",
        "    Finds the maximum element in a nested list.\n",
        "\n",
        "    Parameters:\n",
        "    lst (list): The nested list.\n",
        "\n",
        "    Returns:\n",
        "    float: The maximum element.\n",
        "    \"\"\"\n",
        "    # Flatten the list and return the maximum element\n",
        "    return max(flatten(lst))\n",
        "\n",
        "\n",
        "print(find_max([[1, 2], [3, [4, 5]], 6]))  # Output: 6\n"
      ],
      "metadata": {
        "colab": {
          "base_uri": "https://localhost:8080/"
        },
        "id": "XQ-eA6Sa31yB",
        "outputId": "4fa54377-8358-437d-f348-3a55655286f1"
      },
      "execution_count": 14,
      "outputs": [
        {
          "output_type": "stream",
          "name": "stdout",
          "text": [
            "6\n"
          ]
        }
      ]
    },
    {
      "cell_type": "code",
      "source": [
        "def count_occurrences(lst, elem):\n",
        "    \"\"\"\n",
        "    Counts how many times a specific element appears in a nested list.\n",
        "\n",
        "    Parameters:\n",
        "    lst (list): The nested list.\n",
        "    elem (any): The element to count.\n",
        "\n",
        "    Returns:\n",
        "    int: The number of occurrences.\n",
        "    \"\"\"\n",
        "    # Flatten the list and count occurrences of the element\n",
        "    return flatten(lst).count(elem)\n",
        "\n",
        "\n",
        "print(count_occurrences([[1, 2], [2, 3], [2, 4]], 2))  # Output: 3\n"
      ],
      "metadata": {
        "colab": {
          "base_uri": "https://localhost:8080/"
        },
        "id": "1iHgRdT033ic",
        "outputId": "6dc7caf9-3097-4359-a945-f0fe574d96e5"
      },
      "execution_count": 15,
      "outputs": [
        {
          "output_type": "stream",
          "name": "stdout",
          "text": [
            "3\n"
          ]
        }
      ]
    },
    {
      "cell_type": "code",
      "source": [
        "def deep_flatten(lst):\n",
        "    \"\"\"\n",
        "    Flattens a deeply nested list into a single list.\n",
        "\n",
        "    Parameters:\n",
        "    lst (list): The deeply nested list.\n",
        "\n",
        "    Returns:\n",
        "    list: A single flattened list.\n",
        "    \"\"\"\n",
        "    # Use the flatten function to flatten the deeply nested list\n",
        "    return flatten(lst)\n",
        "\n",
        "print(deep_flatten([[[1, 2], [3, 4]], [[5, 6], [7, 8]]]))  # Output: [1, 2, 3, 4, 5, 6, 7, 8]\n"
      ],
      "metadata": {
        "colab": {
          "base_uri": "https://localhost:8080/"
        },
        "id": "KGM7zF3N38Wm",
        "outputId": "09a2a465-72c4-4cd1-8453-917de76140f5"
      },
      "execution_count": null,
      "outputs": [
        {
          "output_type": "execute_result",
          "data": {
            "text/plain": [
              "[1, 2, 3, 4, 5, 6, 7, 8]"
            ]
          },
          "metadata": {},
          "execution_count": 24
        }
      ]
    },
    {
      "cell_type": "code",
      "source": [
        "def average_nested(lst):\n",
        "    \"\"\"\n",
        "    Calculates the average of all elements in a nested list.\n",
        "\n",
        "    Parameters:\n",
        "    lst (list): The nested list.\n",
        "\n",
        "    Returns:\n",
        "    float: The average of all elements.\n",
        "    \"\"\"\n",
        "    # Flatten the list and calculate the sum and length to compute the average\n",
        "    flat_list = flatten(lst)\n",
        "    return sum(flat_list) / len(flat_list)\n",
        "\n",
        "print(average_nested([[1, 2], [3, 4], [5, 6]]))  # Output: 3.5\n"
      ],
      "metadata": {
        "colab": {
          "base_uri": "https://localhost:8080/"
        },
        "id": "r0k0HcDA3_Fd",
        "outputId": "1bc4eb8a-b4d7-4be5-f056-ddd14688ba32"
      },
      "execution_count": 16,
      "outputs": [
        {
          "output_type": "stream",
          "name": "stdout",
          "text": [
            "3.5\n"
          ]
        }
      ]
    },
    {
      "cell_type": "markdown",
      "source": [
        "# Basic Vector and Matrix Operation with Numpy."
      ],
      "metadata": {
        "id": "HOfXMOKX45Tr"
      }
    },
    {
      "cell_type": "markdown",
      "source": [
        "# Problem - 1: Array Creation:"
      ],
      "metadata": {
        "id": "CggzDmEJ46OB"
      }
    },
    {
      "cell_type": "code",
      "source": [
        "import numpy as np\n",
        "\n",
        "# 1. Initialize an empty array with size 2x2\n",
        "# Creates an uninitialized array with random values\n",
        "empty_array = np.empty((2, 2))  # Empty array of shape 2x2\n",
        "print(\"Empty 2x2 Array:\\n\", empty_array)\n",
        "print(\"---------------\")\n",
        "\n",
        "# 2. Initialize an all ones array with size 4x2\n",
        "# Creates an array of shape 4x2 filled with ones\n",
        "ones_array = np.ones((4, 2))  # Array of ones of shape 4x2\n",
        "print(\"All Ones 4x2 Array:\\n\", ones_array)\n",
        "print(\"---------------\")\n",
        "\n",
        "# 3. Return a new array of given shape and type, filled with fill value\n",
        "# This will create a 3x3 array where all values are set to 5\n",
        "fill_value_array = np.full((3, 3), 5)  # 3x3 array, filled with 5\n",
        "print(\"Array Filled with Value 5:\\n\", fill_value_array)\n",
        "print(\"---------------\")\n",
        "\n",
        "# 4. Return a new array of zeros with same shape and type as a given array\n",
        "# Here, we create a zeros array with the same shape as `given_array`\n",
        "given_array = np.array([[1, 2], [3, 4]])  # Initial array to match shape\n",
        "zeros_like_array = np.zeros_like(given_array)  # Zeros array of same shape\n",
        "print(\"Zeros Array with Same Shape as Given Array:\\n\", zeros_like_array)\n",
        "print(\"---------------\")\n",
        "\n",
        "# 5. Return a new array of ones with same shape and type as a given array\n",
        "# Creating an array of ones with the same shape as `given_array`\n",
        "ones_like_array = np.ones_like(given_array)  # Ones array of same shape\n",
        "print(\"Ones Array with Same Shape as Given Array:\\n\", ones_like_array)\n",
        "print(\"---------------\")\n",
        "\n",
        "# 6. Convert a list to a NumPy array\n",
        "# Converts a plain Python list to a NumPy array\n",
        "new_list = [1, 2, 3, 4]  # Python list\n",
        "numpy_array = np.array(new_list)  # Conversion to NumPy array\n",
        "print(\"Converted NumPy Array from List:\\n\", numpy_array)\n"
      ],
      "metadata": {
        "colab": {
          "base_uri": "https://localhost:8080/"
        },
        "id": "6iLs6Tn549aq",
        "outputId": "7ab75f71-fcf4-4771-ffa1-7d45bc9c6d7b"
      },
      "execution_count": 17,
      "outputs": [
        {
          "output_type": "stream",
          "name": "stdout",
          "text": [
            "Empty 2x2 Array:\n",
            " [[1.71541460e-316 0.00000000e+000]\n",
            " [6.73681725e-310 5.33257700e-317]]\n",
            "---------------\n",
            "All Ones 4x2 Array:\n",
            " [[1. 1.]\n",
            " [1. 1.]\n",
            " [1. 1.]\n",
            " [1. 1.]]\n",
            "---------------\n",
            "Array Filled with Value 5:\n",
            " [[5 5 5]\n",
            " [5 5 5]\n",
            " [5 5 5]]\n",
            "---------------\n",
            "Zeros Array with Same Shape as Given Array:\n",
            " [[0 0]\n",
            " [0 0]]\n",
            "---------------\n",
            "Ones Array with Same Shape as Given Array:\n",
            " [[1 1]\n",
            " [1 1]]\n",
            "---------------\n",
            "Converted NumPy Array from List:\n",
            " [1 2 3 4]\n"
          ]
        }
      ]
    },
    {
      "cell_type": "markdown",
      "source": [
        "# Problem - 2: Array Manipulation: Numerical Ranges and Array indexing:"
      ],
      "metadata": {
        "id": "Uq2c7Pld5PNs"
      }
    },
    {
      "cell_type": "code",
      "source": [
        "import numpy as np\n",
        "\n",
        "# 1. Generate an array with numbers from 10 to 49\n",
        "range_array = np.arange(10, 50)\n",
        "print(\"Array with Values from 10 to 49:\\n\", range_array)\n",
        "print(\"---------------\")\n",
        "\n",
        "# 2. Generate a 3x3 matrix with numbers from 0 to 8\n",
        "matrix_3x3 = np.arange(9).reshape(3, 3)\n",
        "print(\"3x3 Matrix with Values 0 to 8:\\n\", matrix_3x3)\n",
        "print(\"---------------\")\n",
        "\n",
        "# 3. Create a 3x3 identity matrix with ones on the diagonal\n",
        "identity_matrix = np.eye(3)\n",
        "print(\"3x3 Identity Matrix:\\n\", identity_matrix)\n",
        "print(\"---------------\")\n",
        "\n",
        "# 4. Generate a random array of size 30 and calculate its mean value\n",
        "random_array = np.random.random(30)\n",
        "mean_value = random_array.mean()  # Calculate mean of the random numbers\n",
        "print(\"Random Array of Size 30:\\n\", random_array)\n",
        "print(\"Mean of Random Array:\", mean_value)\n",
        "\n",
        "# 5. Generate a 10x10 random array and determine its min and max values\n",
        "random_10x10 = np.random.random((10, 10))\n",
        "min_value = random_10x10.min()  # Get the minimum value from the array\n",
        "max_value = random_10x10.max()  # Get the maximum value from the array\n",
        "print(\"10x10 Random Array:\\n\", random_10x10)\n",
        "print(\"Minimum Value:\", min_value)\n",
        "print(\"Maximum Value:\", max_value)\n",
        "print(\"---------------\")\n",
        "\n",
        "# 6. Create a zero-initialized array of size 10 and set the 5th element to 1\n",
        "zero_array = np.zeros(10)\n",
        "zero_array[4] = 1  # Change the 5th element (index 4) to 1\n",
        "print(\"Zero Array with 5th Element Replaced:\\n\", zero_array)\n",
        "print(\"---------------\")\n",
        "\n",
        "# 7. Reverse the given array\n",
        "arr = np.array([1, 2, 0, 0, 4, 0])\n",
        "reversed_arr = arr[::-1]  # Reverse the elements of the array\n",
        "print(\"Reversed Array:\\n\", reversed_arr)\n",
        "print(\"---------------\")\n",
        "\n",
        "# 8. Generate a 2D array with border of 1s and the inside as 0s\n",
        "border_array = np.ones((5, 5))\n",
        "border_array[1:-1, 1:-1] = 0  # Set inner values to 0\n",
        "print(\"2D Array with 1 on Border and 0 Inside:\\n\", border_array)\n",
        "print(\"---------------\")\n",
        "\n",
        "# 9. Create an 8x8 matrix with a checkerboard pattern\n",
        "checkerboard = np.zeros((8, 8))\n",
        "checkerboard[1::2, ::2] = 1  # Set every alternate element in the first half\n",
        "checkerboard[::2, 1::2] = 1  # Set every alternate element in the second half\n",
        "print(\"8x8 Checkerboard Pattern:\\n\", checkerboard)\n"
      ],
      "metadata": {
        "colab": {
          "base_uri": "https://localhost:8080/"
        },
        "id": "7rzn4AIv5QTA",
        "outputId": "37e62d30-ce61-49aa-85bd-c21e76f8a2eb"
      },
      "execution_count": 18,
      "outputs": [
        {
          "output_type": "stream",
          "name": "stdout",
          "text": [
            "Array with Values from 10 to 49:\n",
            " [10 11 12 13 14 15 16 17 18 19 20 21 22 23 24 25 26 27 28 29 30 31 32 33\n",
            " 34 35 36 37 38 39 40 41 42 43 44 45 46 47 48 49]\n",
            "---------------\n",
            "3x3 Matrix with Values 0 to 8:\n",
            " [[0 1 2]\n",
            " [3 4 5]\n",
            " [6 7 8]]\n",
            "---------------\n",
            "3x3 Identity Matrix:\n",
            " [[1. 0. 0.]\n",
            " [0. 1. 0.]\n",
            " [0. 0. 1.]]\n",
            "---------------\n",
            "Random Array of Size 30:\n",
            " [0.98444102 0.89970782 0.81219096 0.51154644 0.56134828 0.60013742\n",
            " 0.60776838 0.75380201 0.09322506 0.25270828 0.60709268 0.49145898\n",
            " 0.15687979 0.79948752 0.97675159 0.70991004 0.15737481 0.08808994\n",
            " 0.30636068 0.89499672 0.11797024 0.28668167 0.86415388 0.02646106\n",
            " 0.35502285 0.07068822 0.81379653 0.98874331 0.36503858 0.88171132]\n",
            "Mean of Random Array: 0.5345182020029126\n",
            "10x10 Random Array:\n",
            " [[0.60871716 0.18147704 0.72957182 0.37786265 0.61098031 0.09067873\n",
            "  0.91904622 0.5189725  0.30430403 0.16708264]\n",
            " [0.0680915  0.97781216 0.6575837  0.58269302 0.06028348 0.53263516\n",
            "  0.08151694 0.87861736 0.21248819 0.13020856]\n",
            " [0.48094508 0.0600967  0.91213667 0.09361301 0.59313299 0.52840412\n",
            "  0.88633879 0.90621918 0.99399314 0.09131146]\n",
            " [0.59577522 0.71505574 0.20750359 0.66441337 0.00881904 0.13149379\n",
            "  0.2012452  0.12371886 0.16600627 0.11292186]\n",
            " [0.16671264 0.55062913 0.70901472 0.28707917 0.45887976 0.24661167\n",
            "  0.01961198 0.83672216 0.99177078 0.00912779]\n",
            " [0.51767476 0.27729646 0.90098029 0.39231491 0.95720488 0.92341168\n",
            "  0.72516138 0.73309615 0.44373891 0.15679736]\n",
            " [0.90680182 0.57688706 0.28803689 0.02868621 0.0620972  0.71171105\n",
            "  0.82767542 0.3382884  0.7045331  0.34424876]\n",
            " [0.30883737 0.69543608 0.75011659 0.43808609 0.51196239 0.36117947\n",
            "  0.15963813 0.32211425 0.28836961 0.94603558]\n",
            " [0.72394961 0.35864233 0.46312809 0.36659826 0.94233726 0.49274253\n",
            "  0.1747274  0.44021641 0.86284475 0.51003071]\n",
            " [0.4176664  0.13205363 0.60339584 0.79342375 0.57436178 0.83316595\n",
            "  0.18824885 0.49479551 0.79135632 0.91352519]]\n",
            "Minimum Value: 0.008819035329434732\n",
            "Maximum Value: 0.9939931353478443\n",
            "---------------\n",
            "Zero Array with 5th Element Replaced:\n",
            " [0. 0. 0. 0. 1. 0. 0. 0. 0. 0.]\n",
            "---------------\n",
            "Reversed Array:\n",
            " [0 4 0 0 2 1]\n",
            "---------------\n",
            "2D Array with 1 on Border and 0 Inside:\n",
            " [[1. 1. 1. 1. 1.]\n",
            " [1. 0. 0. 0. 1.]\n",
            " [1. 0. 0. 0. 1.]\n",
            " [1. 0. 0. 0. 1.]\n",
            " [1. 1. 1. 1. 1.]]\n",
            "---------------\n",
            "8x8 Checkerboard Pattern:\n",
            " [[0. 1. 0. 1. 0. 1. 0. 1.]\n",
            " [1. 0. 1. 0. 1. 0. 1. 0.]\n",
            " [0. 1. 0. 1. 0. 1. 0. 1.]\n",
            " [1. 0. 1. 0. 1. 0. 1. 0.]\n",
            " [0. 1. 0. 1. 0. 1. 0. 1.]\n",
            " [1. 0. 1. 0. 1. 0. 1. 0.]\n",
            " [0. 1. 0. 1. 0. 1. 0. 1.]\n",
            " [1. 0. 1. 0. 1. 0. 1. 0.]]\n"
          ]
        }
      ]
    },
    {
      "cell_type": "markdown",
      "source": [
        "# Problem - 3: Array Operations:"
      ],
      "metadata": {
        "id": "-9y8Z94E5f0R"
      }
    },
    {
      "cell_type": "code",
      "source": [
        "import numpy as np\n",
        "\n",
        "# Given arrays\n",
        "x = np.array([[1, 2], [3, 5]])\n",
        "y = np.array([[5, 6], [7, 8]])\n",
        "v = np.array([9, 10])\n",
        "w = np.array([11, 12])\n",
        "\n",
        "# 1. Perform element-wise addition of x and y\n",
        "add_result = x + y  # Adding corresponding elements of x and y\n",
        "print(\"Addition of x and y:\\n\", add_result)\n",
        "print(\"---------------\")\n",
        "\n",
        "# 2. Perform element-wise subtraction of x and y\n",
        "subtract_result = x - y  # Subtract corresponding elements of x and y\n",
        "print(\"Subtraction of x and y:\\n\", subtract_result)\n",
        "print(\"---------------\")\n",
        "\n",
        "# 3. Multiply each element of the array x by 2\n",
        "multiply_result = x * 2  # Element-wise multiplication of x by 2\n",
        "print(\"Multiplication of x by 2:\\n\", multiply_result)\n",
        "print(\"---------------\")\n",
        "\n",
        "# 4. Compute the square of each element in x\n",
        "square_result = np.square(x)  # Squaring each element in the array x\n",
        "print(\"Square of Each Element in x:\\n\", square_result)\n",
        "print(\"---------------\")\n",
        "\n",
        "# 5. Compute the dot product for different arrays\n",
        "dot_vw = np.dot(v, w)  # Dot product of the vectors v and w\n",
        "dot_xv = np.dot(x, v)  # Dot product between matrix x and vector v\n",
        "dot_xy = np.dot(x, y)  # Dot product between matrices x and y\n",
        "print(\"Dot Product of v and w:\", dot_vw)\n",
        "print(\"Dot Product of x and v:\", dot_xv)\n",
        "print(\"Dot Product of x and y:\\n\", dot_xy)\n",
        "print(\"---------------\")\n",
        "\n",
        "# 6. Concatenate arrays x and y along the rows, and v and w along the columns\n",
        "concatenate_rows = np.concatenate((x, y), axis=0)  # Stacking x and y vertically (along rows)\n",
        "concatenate_columns = np.vstack((v, w))  # Stacking v and w along the columns\n",
        "print(\"Concatenate x and y along rows:\\n\", concatenate_rows)\n",
        "print(\"Concatenate v and w along columns:\\n\", concatenate_columns)\n",
        "print(\"---------------\")\n",
        "\n",
        "# 7. Attempt to concatenate x and v (will raise a shape mismatch error)\n",
        "try:\n",
        "    concatenate_xv = np.concatenate((x, v))  # This will fail due to shape mismatch\n",
        "except ValueError as e:\n",
        "    print(\"Error:\", e)  # Display the error when the shapes are incompatible\n",
        "    print(\"Explanation: x (2x2) and v (2,) cannot be concatenated due to shape mismatch.\")\n"
      ],
      "metadata": {
        "colab": {
          "base_uri": "https://localhost:8080/"
        },
        "id": "7Kk1Pa0X5ghe",
        "outputId": "057130e4-d10e-488c-95c0-8f39200c5c56"
      },
      "execution_count": 19,
      "outputs": [
        {
          "output_type": "stream",
          "name": "stdout",
          "text": [
            "Addition of x and y:\n",
            " [[ 6  8]\n",
            " [10 13]]\n",
            "---------------\n",
            "Subtraction of x and y:\n",
            " [[-4 -4]\n",
            " [-4 -3]]\n",
            "---------------\n",
            "Multiplication of x by 2:\n",
            " [[ 2  4]\n",
            " [ 6 10]]\n",
            "---------------\n",
            "Square of Each Element in x:\n",
            " [[ 1  4]\n",
            " [ 9 25]]\n",
            "---------------\n",
            "Dot Product of v and w: 219\n",
            "Dot Product of x and v: [29 77]\n",
            "Dot Product of x and y:\n",
            " [[19 22]\n",
            " [50 58]]\n",
            "---------------\n",
            "Concatenate x and y along rows:\n",
            " [[1 2]\n",
            " [3 5]\n",
            " [5 6]\n",
            " [7 8]]\n",
            "Concatenate v and w along columns:\n",
            " [[ 9 10]\n",
            " [11 12]]\n",
            "---------------\n",
            "Error: all the input arrays must have same number of dimensions, but the array at index 0 has 2 dimension(s) and the array at index 1 has 1 dimension(s)\n",
            "Explanation: x (2x2) and v (2,) cannot be concatenated due to shape mismatch.\n"
          ]
        }
      ]
    },
    {
      "cell_type": "markdown",
      "source": [
        "# Problem - 4: Matrix Operations:"
      ],
      "metadata": {
        "id": "a7WGIiQE5td6"
      }
    },
    {
      "cell_type": "code",
      "source": [
        "import numpy as np\n",
        "\n",
        "# Given arrays\n",
        "A = np.array([[3, 4], [7, 8]])\n",
        "B = np.array([[5, 3], [2, 1]])\n",
        "\n",
        "# 1. Prove A.A^-1 = I (Identity Matrix Verification)\n",
        "A_inv = np.linalg.inv(A)  # Compute inverse of matrix A\n",
        "identity_check = np.dot(A, A_inv)  # Multiply A by its inverse, expecting the identity matrix\n",
        "print(\"A.A^-1:\\n\", identity_check)\n",
        "print(\"---------------\")\n",
        "\n",
        "# 2. Prove AB != BA (Non-commutativity of Matrix Multiplication)\n",
        "AB = np.dot(A, B)  # Compute AB\n",
        "BA = np.dot(B, A)  # Compute BA\n",
        "print(\"AB:\\n\", AB)\n",
        "print(\"BA:\\n\", BA)\n",
        "print(\"Is AB != BA?\", not np.array_equal(AB, BA))  # Check if AB is not equal to BA\n",
        "print(\"---------------\")\n",
        "\n",
        "# 3. Prove (AB)^T = B^T A^T (Property of Transpose)\n",
        "AB_transpose = AB.T  # Compute the transpose of AB\n",
        "B_transpose_A_transpose = np.dot(B.T, A.T)  # Multiply the transposes of B and A\n",
        "print(\"(AB)^T:\\n\", AB_transpose)\n",
        "print(\"B^T A^T:\\n\", B_transpose_A_transpose)\n",
        "print(\"Is (AB)^T == B^T A^T?\", np.array_equal(AB_transpose, B_transpose_A_transpose))  # Check the property\n",
        "print(\"---------------\")\n",
        "\n",
        "# Solve the system of linear equations\n",
        "# 2x - 3y + z = -1\n",
        "# x - y + 2z = -3\n",
        "# 3x + y - z = 9\n",
        "\n",
        "# Matrix form: AX = B\n",
        "A_eq = np.array([[2, -3, 1], [1, -1, 2], [3, 1, -1]])  # Coefficient matrix A_eq\n",
        "B_eq = np.array([-1, -3, 9])  # Right-hand side values B_eq\n",
        "print(\"---------------\")\n",
        "\n",
        "# Solve using the inverse method\n",
        "X = np.dot(np.linalg.inv(A_eq), B_eq)  # Solve using the inverse of A_eq\n",
        "print(\"Solution using Inverse Method:\", X)\n",
        "print(\"---------------\")\n",
        "\n",
        "# Solve using np.linalg.solve\n",
        "X_solve = np.linalg.solve(A_eq, B_eq)  # Solve using numpy's built-in solver\n",
        "print(\"Solution using np.linalg.solve:\", X_solve)\n"
      ],
      "metadata": {
        "colab": {
          "base_uri": "https://localhost:8080/"
        },
        "id": "T1smTCWZ5tPy",
        "outputId": "b0f1e0a4-7133-4acc-8af9-bd80ed7e5ce7"
      },
      "execution_count": 20,
      "outputs": [
        {
          "output_type": "stream",
          "name": "stdout",
          "text": [
            "A.A^-1:\n",
            " [[1.00000000e+00 0.00000000e+00]\n",
            " [1.77635684e-15 1.00000000e+00]]\n",
            "---------------\n",
            "AB:\n",
            " [[23 13]\n",
            " [51 29]]\n",
            "BA:\n",
            " [[36 44]\n",
            " [13 16]]\n",
            "Is AB != BA? True\n",
            "---------------\n",
            "(AB)^T:\n",
            " [[23 51]\n",
            " [13 29]]\n",
            "B^T A^T:\n",
            " [[23 51]\n",
            " [13 29]]\n",
            "Is (AB)^T == B^T A^T? True\n",
            "---------------\n",
            "---------------\n",
            "Solution using Inverse Method: [ 2.  1. -2.]\n",
            "---------------\n",
            "Solution using np.linalg.solve: [ 2.  1. -2.]\n"
          ]
        }
      ]
    },
    {
      "cell_type": "markdown",
      "source": [
        "# Experiment: How Fast is Numpy?"
      ],
      "metadata": {
        "id": "3H_v52uH59RJ"
      }
    },
    {
      "cell_type": "code",
      "source": [
        "import time\n",
        "import numpy as np\n",
        "\n",
        "# Function to measure time taken for an operation\n",
        "def measure_time(func, *args):\n",
        "    start_time = time.time()  # Capture start time before executing function\n",
        "    func(*args)  # Call the function with arguments\n",
        "    end_time = time.time()  # Capture end time after execution\n",
        "    return end_time - start_time  # Return the elapsed time\n",
        "\n",
        "# 1. Element-wise Addition\n",
        "def elementwise_addition_python(list1, list2):\n",
        "    return [a + b for a, b in zip(list1, list2)]  # Perform element-wise addition using Python lists\n",
        "\n",
        "def elementwise_addition_numpy(array1, array2):\n",
        "    return array1 + array2  # Perform element-wise addition using NumPy arrays\n",
        "\n",
        "# 2. Element-wise Multiplication\n",
        "def elementwise_multiplication_python(list1, list2):\n",
        "    return [a * b for a, b in zip(list1, list2)]  # Perform element-wise multiplication using Python lists\n",
        "\n",
        "def elementwise_multiplication_numpy(array1, array2):\n",
        "    return array1 * array2  # Perform element-wise multiplication using NumPy arrays\n",
        "\n",
        "# 3. Dot Product\n",
        "def dot_product_python(list1, list2):\n",
        "    return sum(a * b for a, b in zip(list1, list2))  # Compute dot product using Python lists\n",
        "\n",
        "def dot_product_numpy(array1, array2):\n",
        "    return np.dot(array1, array2)  # Compute dot product using NumPy arrays\n",
        "\n",
        "# 4. Matrix Multiplication\n",
        "def matrix_multiplication_python(matrix1, matrix2):\n",
        "    result = [[sum(a * b for a, b in zip(row, col)) for col in zip(*matrix2)] for row in matrix1]  # Matrix multiplication using Python lists\n",
        "    return result\n",
        "\n",
        "def matrix_multiplication_numpy(matrix1, matrix2):\n",
        "    return np.dot(matrix1, matrix2)  # Matrix multiplication using NumPy arrays\n",
        "\n",
        "# Initialize data\n",
        "size = 1000000  # Define the size of arrays for element-wise operations\n",
        "list1 = list(range(size))  # Initialize a list of integers from 0 to size-1\n",
        "list2 = list(range(size, 2 * size))  # Initialize another list from size to 2*size-1\n",
        "array1 = np.arange(size)  # Initialize a NumPy array from 0 to size-1\n",
        "array2 = np.arange(size, 2 * size)  # Initialize another NumPy array from size to 2*size-1\n",
        "\n",
        "matrix_size = 1000  # Define the size of the matrices for matrix multiplication\n",
        "matrix1 = [[i + j for j in range(matrix_size)] for i in range(matrix_size)]  # Create a matrix of size matrix_size x matrix_size\n",
        "matrix2 = [[i - j for j in range(matrix_size)] for i in range(matrix_size)]  # Create another matrix of size matrix_size x matrix_size\n",
        "np_matrix1 = np.array(matrix1)  # Convert matrix1 into a NumPy array\n",
        "np_matrix2 = np.array(matrix2)  # Convert matrix2 into a NumPy array\n",
        "\n",
        "# Measure time for each operation\n",
        "print(\"1. Element-wise Addition:\")\n",
        "time_python_add = measure_time(elementwise_addition_python, list1, list2)\n",
        "time_numpy_add = measure_time(elementwise_addition_numpy, array1, array2)\n",
        "print(f\"Python Lists: {time_python_add:.6f} seconds\")\n",
        "print(f\"NumPy Arrays: {time_numpy_add:.6f} seconds\")\n",
        "\n",
        "print(\"\\n2. Element-wise Multiplication:\")\n",
        "time_python_mul = measure_time(elementwise_multiplication_python, list1, list2)\n",
        "time_numpy_mul = measure_time(elementwise_multiplication_numpy, array1, array2)\n",
        "print(f\"Python Lists: {time_python_mul:.6f} seconds\")\n",
        "print(f\"NumPy Arrays: {time_numpy_mul:.6f} seconds\")\n",
        "\n",
        "print(\"\\n3. Dot Product:\")\n",
        "time_python_dot = measure_time(dot_product_python, list1, list2)\n",
        "time_numpy_dot = measure_time(dot_product_numpy, array1, array2)\n",
        "print(f\"Python Lists: {time_python_dot:.6f} seconds\")\n",
        "print(f\"NumPy Arrays: {time_numpy_dot:.6f} seconds\")\n",
        "\n",
        "print(\"\\n4. Matrix Multiplication:\")\n",
        "time_python_matmul = measure_time(matrix_multiplication_python, matrix1, matrix2)\n",
        "time_numpy_matmul = measure_time(matrix_multiplication_numpy, np_matrix1, np_matrix2)\n",
        "print(f\"Python Lists: {time_python_matmul:.6f} seconds\")\n",
        "print(f\"NumPy Arrays: {time_numpy_matmul:.6f} seconds\")\n"
      ],
      "metadata": {
        "colab": {
          "base_uri": "https://localhost:8080/"
        },
        "id": "vQXBJN236Jm5",
        "outputId": "ef34dfd6-e7ca-4aa7-a0f0-d6261a583a81"
      },
      "execution_count": 21,
      "outputs": [
        {
          "output_type": "stream",
          "name": "stdout",
          "text": [
            "1. Element-wise Addition:\n",
            "Python Lists: 0.219140 seconds\n",
            "NumPy Arrays: 0.003738 seconds\n",
            "\n",
            "2. Element-wise Multiplication:\n",
            "Python Lists: 0.151967 seconds\n",
            "NumPy Arrays: 0.001292 seconds\n",
            "\n",
            "3. Dot Product:\n",
            "Python Lists: 0.115533 seconds\n",
            "NumPy Arrays: 0.000958 seconds\n",
            "\n",
            "4. Matrix Multiplication:\n",
            "Python Lists: 83.482245 seconds\n",
            "NumPy Arrays: 0.842841 seconds\n"
          ]
        }
      ]
    },
    {
      "cell_type": "code",
      "source": [],
      "metadata": {
        "id": "vk-Eoa8A-pn2"
      },
      "execution_count": null,
      "outputs": []
    }
  ]
}